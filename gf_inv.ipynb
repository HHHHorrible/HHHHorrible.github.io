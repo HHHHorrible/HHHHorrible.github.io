{
  "nbformat": 4,
  "nbformat_minor": 0,
  "metadata": {
    "colab": {
      "name": "gf_inv.ipynb",
      "provenance": [],
      "authorship_tag": "ABX9TyPL+BVoajkdsW6m6hqZE/RL",
      "include_colab_link": true
    },
    "kernelspec": {
      "name": "python3",
      "display_name": "Python 3"
    },
    "language_info": {
      "name": "python"
    }
  },
  "cells": [
    {
      "cell_type": "markdown",
      "metadata": {
        "id": "view-in-github",
        "colab_type": "text"
      },
      "source": [
        "<a href=\"https://colab.research.google.com/github/HHHHorrible/HHHHorrible.github.io/blob/master/gf_inv.ipynb\" target=\"_parent\"><img src=\"https://colab.research.google.com/assets/colab-badge.svg\" alt=\"Open In Colab\"/></a>"
      ]
    },
    {
      "cell_type": "code",
      "execution_count": 17,
      "metadata": {
        "colab": {
          "base_uri": "https://localhost:8080/"
        },
        "id": "kA3Nu9pAYKof",
        "outputId": "4a44310d-e1bc-4583-9f48-3f41be2cf421"
      },
      "outputs": [
        {
          "output_type": "stream",
          "name": "stdout",
          "text": [
            "---- 多项式乘法逆元求解完成 ----\n",
            ">>你输入的多项式 : x+1\n",
            ">>默认既约多项式 : x^5+x^3+1\n",
            ">>输出的乘法逆元 : x^4+x^3\n"
          ]
        }
      ],
      "source": [
        "# 求最高幂次数\n",
        "def Nonzero_MSB(value):\n",
        "    v2str = '{:09b}'.format(value)\n",
        "    for i in range(9):\n",
        "        if int(v2str[i]):\n",
        "            return 9-i\n",
        "\n",
        "# 模2除法：m为被除数。b为除数，q为商，r为余数\n",
        "def Mode2_div(fx, gx):\n",
        "    n = Nonzero_MSB(fx)\n",
        "    m = Nonzero_MSB(gx)\n",
        "    if n < m:\n",
        "        return [0, fx]\n",
        "    deg = n - m\n",
        "    fx = fx ^ (gx << deg)\n",
        "    [q, r] = Mode2_div(fx, gx) \n",
        "    return [(1 << deg)|q, r]\n",
        "\n",
        "# v3 = v1 - q3 * v2\n",
        "def Calculate(v1, q3, v2):\n",
        "    value = 0\n",
        "    for i in range(32):\n",
        "        if(q3 & (1<<i)):\n",
        "            value = value ^ (v2<<i)\n",
        "    return v1^value\n",
        "\n",
        "def poly_gcd(r1, r2, v1=1, v2=0, w1=0, w2=1):\n",
        "    \n",
        "    if r2==0 or r2==1:  return w2\n",
        "    q3, r3 = Mode2_div(r1, r2)  # q3(x)=r1(x)|r2(x), r2(x)=r1(x) mod r2(x)\n",
        "    v3 = Calculate(v1, q3, v2)  # v3 = v1 - q3 * v2\n",
        "    w3 = Calculate(w1, q3, w2)  # w3 = w1 - q3 * w2\n",
        "    return poly_gcd(r2,r3,v2,v3,w2,w3)\n",
        "\n",
        "def sym2int(sym):\n",
        "    power = [sym[i+2] for i in range(len(sym)) if sym[i] == 'x']\n",
        "    if '+1' in sym: power.append('0')\n",
        "    data = 0\n",
        "    for p in power:\n",
        "        data = data | (1<<int(p))\n",
        "    return data\n",
        "\n",
        "def int2sym(data):\n",
        "    int2str = '{:09b}'.format(data)\n",
        "    sym = ''\n",
        "    for i in range(9):\n",
        "        if int(int2str[i]) == 1:\n",
        "            if 8-i:   sym += '+x^%d'%(8-i)\n",
        "            else:   sym += '+1'\n",
        "    return sym[1:]\n",
        "\n",
        "\n",
        "xstr = 'x+1'\n",
        "print('---- 多项式乘法逆元求解完成 ----')\n",
        "print('>>你输入的多项式 :', xstr)\n",
        "print('>>默认既约多项式 :', int2sym(41))\n",
        "print('>>输出的乘法逆元 :', int2sym(poly_gcd(41, sym2int(xstr))))\n"
      ]
    },
    {
      "cell_type": "code",
      "source": [
        ""
      ],
      "metadata": {
        "id": "5k4hfiY4YLfX"
      },
      "execution_count": 4,
      "outputs": []
    }
  ]
}